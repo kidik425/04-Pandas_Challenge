{
 "cells": [
  {
   "cell_type": "markdown",
   "metadata": {},
   "source": [
    "### Note\n",
    "* Instructions have been included for each segment. You do not have to follow them exactly, but they are included to help you think through the steps."
   ]
  },
  {
   "cell_type": "code",
   "execution_count": 12,
   "metadata": {},
   "outputs": [],
   "source": [
    "# Dependencies and Setup\n",
    "import pandas as pd\n",
    "\n",
    "# File to Load (Remember to Change These)\n",
    "csvFile = \"Resources/purchase_data.csv\"\n",
    "\n",
    "# Read Purchasing File and store into Pandas data frame\n",
    "purchaseData = pd.read_csv(csvFile)\n",
    "#purchaseData"
   ]
  },
  {
   "cell_type": "markdown",
   "metadata": {},
   "source": [
    "## Player Count"
   ]
  },
  {
   "cell_type": "markdown",
   "metadata": {},
   "source": [
    "* Display the total number of players\n"
   ]
  },
  {
   "cell_type": "code",
   "execution_count": 2,
   "metadata": {},
   "outputs": [
    {
     "data": {
      "text/html": [
       "<style  type=\"text/css\" >\n",
       "</style><table id=\"T_f10d4890_9992_11eb_ac7a_1e00623a222c\" ><thead>    <tr>        <th class=\"col_heading level0 col0\" >Total Players</th>    </tr></thead><tbody>\n",
       "                <tr>\n",
       "                                <td id=\"T_f10d4890_9992_11eb_ac7a_1e00623a222crow0_col0\" class=\"data row0 col0\" >576</td>\n",
       "            </tr>\n",
       "    </tbody></table>"
      ],
      "text/plain": [
       "<pandas.io.formats.style.Styler at 0x7f9b49765160>"
      ]
     },
     "execution_count": 2,
     "metadata": {},
     "output_type": "execute_result"
    }
   ],
   "source": [
    "cntPlayer=pd.DataFrame({\"Total Players\" : [purchaseData[\"SN\"].nunique()]})\n",
    "totalCnts=int(cntPlayer[\"Total Players\"])\n",
    "cntPlayer.style.hide_index()"
   ]
  },
  {
   "cell_type": "markdown",
   "metadata": {},
   "source": [
    "## Purchasing Analysis (Total)"
   ]
  },
  {
   "cell_type": "markdown",
   "metadata": {},
   "source": [
    "* Run basic calculations to obtain number of unique items, average price, etc.\n",
    "\n",
    "\n",
    "* Create a summary data frame to hold the results\n",
    "\n",
    "\n",
    "* Optional: give the displayed data cleaner formatting\n",
    "\n",
    "\n",
    "* Display the summary data frame\n"
   ]
  },
  {
   "cell_type": "code",
   "execution_count": 3,
   "metadata": {
    "scrolled": true
   },
   "outputs": [
    {
     "data": {
      "text/html": [
       "<style  type=\"text/css\" >\n",
       "</style><table id=\"T_f10e483a_9992_11eb_ac7a_1e00623a222c\" ><thead>    <tr>        <th class=\"col_heading level0 col0\" >Number of Unique Items</th>        <th class=\"col_heading level0 col1\" >Avg Price</th>        <th class=\"col_heading level0 col2\" >Number of Purchases</th>        <th class=\"col_heading level0 col3\" >Total Revenue</th>    </tr></thead><tbody>\n",
       "                <tr>\n",
       "                                <td id=\"T_f10e483a_9992_11eb_ac7a_1e00623a222crow0_col0\" class=\"data row0 col0\" >179</td>\n",
       "                        <td id=\"T_f10e483a_9992_11eb_ac7a_1e00623a222crow0_col1\" class=\"data row0 col1\" >$3.05</td>\n",
       "                        <td id=\"T_f10e483a_9992_11eb_ac7a_1e00623a222crow0_col2\" class=\"data row0 col2\" >780</td>\n",
       "                        <td id=\"T_f10e483a_9992_11eb_ac7a_1e00623a222crow0_col3\" class=\"data row0 col3\" >$2,379.77</td>\n",
       "            </tr>\n",
       "    </tbody></table>"
      ],
      "text/plain": [
       "<pandas.io.formats.style.Styler at 0x7f9b4b412580>"
      ]
     },
     "execution_count": 3,
     "metadata": {},
     "output_type": "execute_result"
    }
   ],
   "source": [
    "purcAnalsys = pd.DataFrame({\"Number of Unique Items\" : [purchaseData[\"Item ID\"].nunique()]\n",
    "                        ,\"Avg Price\" : [purchaseData[\"Price\"].mean()]\n",
    "                        ,\"Number of Purchases\" : [purchaseData[\"Purchase ID\"].count()]\\\n",
    "                        ,\"Total Revenue\": [purchaseData[\"Price\"].sum()]}\n",
    "                      )\n",
    "\n",
    "#format needed output\n",
    "formatPrices = {\"Avg Price\":\"${0:,.2f}\", \"Total Revenue\": \"${0:,.2f}\"}\n",
    "purcAnalsys.style.format(formatPrices).hide_index()"
   ]
  },
  {
   "cell_type": "markdown",
   "metadata": {},
   "source": [
    "## Gender Demographics"
   ]
  },
  {
   "cell_type": "markdown",
   "metadata": {},
   "source": [
    "* Percentage and Count of Male Players\n",
    "\n",
    "\n",
    "* Percentage and Count of Female Players\n",
    "\n",
    "\n",
    "* Percentage and Count of Other / Non-Disclosed\n",
    "\n",
    "\n"
   ]
  },
  {
   "cell_type": "code",
   "execution_count": 4,
   "metadata": {},
   "outputs": [
    {
     "data": {
      "text/html": [
       "<style  type=\"text/css\" >\n",
       "</style><table id=\"T_f110371c_9992_11eb_ac7a_1e00623a222c\" ><thead>    <tr>        <th class=\"blank level0\" ></th>        <th class=\"col_heading level0 col0\" >Total Count</th>        <th class=\"col_heading level0 col1\" >Percentage of Players</th>    </tr></thead><tbody>\n",
       "                <tr>\n",
       "                        <th id=\"T_f110371c_9992_11eb_ac7a_1e00623a222clevel0_row0\" class=\"row_heading level0 row0\" >Male</th>\n",
       "                        <td id=\"T_f110371c_9992_11eb_ac7a_1e00623a222crow0_col0\" class=\"data row0 col0\" >484</td>\n",
       "                        <td id=\"T_f110371c_9992_11eb_ac7a_1e00623a222crow0_col1\" class=\"data row0 col1\" >84.03%</td>\n",
       "            </tr>\n",
       "            <tr>\n",
       "                        <th id=\"T_f110371c_9992_11eb_ac7a_1e00623a222clevel0_row1\" class=\"row_heading level0 row1\" >Female</th>\n",
       "                        <td id=\"T_f110371c_9992_11eb_ac7a_1e00623a222crow1_col0\" class=\"data row1 col0\" >81</td>\n",
       "                        <td id=\"T_f110371c_9992_11eb_ac7a_1e00623a222crow1_col1\" class=\"data row1 col1\" >14.06%</td>\n",
       "            </tr>\n",
       "            <tr>\n",
       "                        <th id=\"T_f110371c_9992_11eb_ac7a_1e00623a222clevel0_row2\" class=\"row_heading level0 row2\" >Other / Non-Disclosed</th>\n",
       "                        <td id=\"T_f110371c_9992_11eb_ac7a_1e00623a222crow2_col0\" class=\"data row2 col0\" >11</td>\n",
       "                        <td id=\"T_f110371c_9992_11eb_ac7a_1e00623a222crow2_col1\" class=\"data row2 col1\" >1.91%</td>\n",
       "            </tr>\n",
       "    </tbody></table>"
      ],
      "text/plain": [
       "<pandas.io.formats.style.Styler at 0x7f9b4b412df0>"
      ]
     },
     "execution_count": 4,
     "metadata": {},
     "output_type": "execute_result"
    }
   ],
   "source": [
    "#create DF to hold distinct values for SN, Gender, Age (for later)\n",
    "gen = pd.DataFrame(purchaseData[[\"SN\",\"Gender\",\"Age\"]]).drop_duplicates()\n",
    "genCnts = pd.DataFrame({\"Total Count\": gen[\"Gender\"].value_counts()}) \n",
    "#genCnts #check for gender output\n",
    "\n",
    "#add new columns\n",
    "genCnts[\"Percentage of Players\"] = (genCnts[\"Total Count\"]/totalCnts) * 100\n",
    "#genCnts #check for gender output ptII\n",
    "\n",
    "#format needed output\n",
    "formatPerc = {\"Percentage of Players\":\"{0:,.2f}%\"}\n",
    "genCnts.style.format(formatPerc)"
   ]
  },
  {
   "cell_type": "markdown",
   "metadata": {},
   "source": [
    "\n",
    "## Purchasing Analysis (Gender)"
   ]
  },
  {
   "cell_type": "markdown",
   "metadata": {},
   "source": [
    "* Run basic calculations to obtain purchase count, avg. purchase price, avg. purchase total per person etc. by gender\n",
    "\n",
    "\n",
    "\n",
    "\n",
    "* Create a summary data frame to hold the results\n",
    "\n",
    "\n",
    "* Optional: give the displayed data cleaner formatting\n",
    "\n",
    "\n",
    "* Display the summary data frame"
   ]
  },
  {
   "cell_type": "code",
   "execution_count": 5,
   "metadata": {},
   "outputs": [
    {
     "data": {
      "text/html": [
       "<style  type=\"text/css\" >\n",
       "</style><table id=\"T_f112400c_9992_11eb_ac7a_1e00623a222c\" ><thead>    <tr>        <th class=\"blank level0\" ></th>        <th class=\"col_heading level0 col0\" >Purchase Count</th>        <th class=\"col_heading level0 col1\" >Avg Purchase Price</th>        <th class=\"col_heading level0 col2\" >Total Purchase Value</th>        <th class=\"col_heading level0 col3\" >Avg Total Purchase per Person</th>    </tr>    <tr>        <th class=\"index_name level0\" >Gender</th>        <th class=\"blank\" ></th>        <th class=\"blank\" ></th>        <th class=\"blank\" ></th>        <th class=\"blank\" ></th>    </tr></thead><tbody>\n",
       "                <tr>\n",
       "                        <th id=\"T_f112400c_9992_11eb_ac7a_1e00623a222clevel0_row0\" class=\"row_heading level0 row0\" >Female</th>\n",
       "                        <td id=\"T_f112400c_9992_11eb_ac7a_1e00623a222crow0_col0\" class=\"data row0 col0\" >113</td>\n",
       "                        <td id=\"T_f112400c_9992_11eb_ac7a_1e00623a222crow0_col1\" class=\"data row0 col1\" >$3.20</td>\n",
       "                        <td id=\"T_f112400c_9992_11eb_ac7a_1e00623a222crow0_col2\" class=\"data row0 col2\" >$361.94</td>\n",
       "                        <td id=\"T_f112400c_9992_11eb_ac7a_1e00623a222crow0_col3\" class=\"data row0 col3\" >$4.47</td>\n",
       "            </tr>\n",
       "            <tr>\n",
       "                        <th id=\"T_f112400c_9992_11eb_ac7a_1e00623a222clevel0_row1\" class=\"row_heading level0 row1\" >Male</th>\n",
       "                        <td id=\"T_f112400c_9992_11eb_ac7a_1e00623a222crow1_col0\" class=\"data row1 col0\" >652</td>\n",
       "                        <td id=\"T_f112400c_9992_11eb_ac7a_1e00623a222crow1_col1\" class=\"data row1 col1\" >$3.02</td>\n",
       "                        <td id=\"T_f112400c_9992_11eb_ac7a_1e00623a222crow1_col2\" class=\"data row1 col2\" >$1,967.64</td>\n",
       "                        <td id=\"T_f112400c_9992_11eb_ac7a_1e00623a222crow1_col3\" class=\"data row1 col3\" >$4.07</td>\n",
       "            </tr>\n",
       "            <tr>\n",
       "                        <th id=\"T_f112400c_9992_11eb_ac7a_1e00623a222clevel0_row2\" class=\"row_heading level0 row2\" >Other / Non-Disclosed</th>\n",
       "                        <td id=\"T_f112400c_9992_11eb_ac7a_1e00623a222crow2_col0\" class=\"data row2 col0\" >15</td>\n",
       "                        <td id=\"T_f112400c_9992_11eb_ac7a_1e00623a222crow2_col1\" class=\"data row2 col1\" >$3.35</td>\n",
       "                        <td id=\"T_f112400c_9992_11eb_ac7a_1e00623a222crow2_col2\" class=\"data row2 col2\" >$50.19</td>\n",
       "                        <td id=\"T_f112400c_9992_11eb_ac7a_1e00623a222crow2_col3\" class=\"data row2 col3\" >$4.56</td>\n",
       "            </tr>\n",
       "    </tbody></table>"
      ],
      "text/plain": [
       "<pandas.io.formats.style.Styler at 0x7f9b49765940>"
      ]
     },
     "execution_count": 5,
     "metadata": {},
     "output_type": "execute_result"
    }
   ],
   "source": [
    "#create groupby df\n",
    "groupPurc = purchaseData.groupby(\"Gender\").agg(**{\n",
    "        \"Total Counts\":(\"SN\", \"nunique\")\n",
    "        ,\"Purchase Count\":(\"Purchase ID\",\"count\")\n",
    "        ,\"Avg Purchase Price\":(\"Price\",\"mean\")\n",
    "        ,\"Total Purchase Value\":(\"Price\",\"sum\")\n",
    "})\n",
    "#groupPurc #output check\n",
    "\n",
    "#create avg be diving total unique people into the total purchase price\n",
    "groupPurc[\"Avg Total Purchase per Person\"] = groupPurc[\"Total Purchase Value\"] / groupPurc[\"Total Counts\"] \n",
    "#groupPurc #output check\n",
    "\n",
    "#create drop unneeded column.... this statement is prob not needed either but trying\n",
    "#to be clever\n",
    "purcAnalsysGen = groupPurc.drop(columns=[\"Total Counts\"])                      \n",
    "#purcAnalsysGen #output check\n",
    "\n",
    "#format needed output\n",
    "formatPricesGen = {\"Avg Purchase Price\":\"${0:,.2f}\", \"Total Purchase Value\": \"${0:,.2f}\", \"Avg Total Purchase per Person\": \"${0:,.2f}\"}\n",
    "purcAnalsysGen.style.format(formatPricesGen)"
   ]
  },
  {
   "cell_type": "markdown",
   "metadata": {},
   "source": [
    "## Age Demographics"
   ]
  },
  {
   "cell_type": "markdown",
   "metadata": {},
   "source": [
    "* Establish bins for ages\n",
    "\n",
    "\n",
    "* Categorize the existing players using the age bins. Hint: use pd.cut()\n",
    "\n",
    "\n",
    "* Calculate the numbers and percentages by age group\n",
    "\n",
    "\n",
    "* Create a summary data frame to hold the results\n",
    "\n",
    "\n",
    "* Optional: round the percentage column to two decimal points\n",
    "\n",
    "\n",
    "* Display Age Demographics Table\n"
   ]
  },
  {
   "cell_type": "code",
   "execution_count": 6,
   "metadata": {},
   "outputs": [
    {
     "data": {
      "text/html": [
       "<style  type=\"text/css\" >\n",
       "</style><table id=\"T_f1142b38_9992_11eb_ac7a_1e00623a222c\" ><thead>    <tr>        <th class=\"blank level0\" ></th>        <th class=\"col_heading level0 col0\" >Total Count</th>        <th class=\"col_heading level0 col1\" >Percentage of Players</th>    </tr></thead><tbody>\n",
       "                <tr>\n",
       "                        <th id=\"T_f1142b38_9992_11eb_ac7a_1e00623a222clevel0_row0\" class=\"row_heading level0 row0\" ><10</th>\n",
       "                        <td id=\"T_f1142b38_9992_11eb_ac7a_1e00623a222crow0_col0\" class=\"data row0 col0\" >17</td>\n",
       "                        <td id=\"T_f1142b38_9992_11eb_ac7a_1e00623a222crow0_col1\" class=\"data row0 col1\" >2.95%</td>\n",
       "            </tr>\n",
       "            <tr>\n",
       "                        <th id=\"T_f1142b38_9992_11eb_ac7a_1e00623a222clevel0_row1\" class=\"row_heading level0 row1\" >10-14</th>\n",
       "                        <td id=\"T_f1142b38_9992_11eb_ac7a_1e00623a222crow1_col0\" class=\"data row1 col0\" >22</td>\n",
       "                        <td id=\"T_f1142b38_9992_11eb_ac7a_1e00623a222crow1_col1\" class=\"data row1 col1\" >3.82%</td>\n",
       "            </tr>\n",
       "            <tr>\n",
       "                        <th id=\"T_f1142b38_9992_11eb_ac7a_1e00623a222clevel0_row2\" class=\"row_heading level0 row2\" >15-19</th>\n",
       "                        <td id=\"T_f1142b38_9992_11eb_ac7a_1e00623a222crow2_col0\" class=\"data row2 col0\" >107</td>\n",
       "                        <td id=\"T_f1142b38_9992_11eb_ac7a_1e00623a222crow2_col1\" class=\"data row2 col1\" >18.58%</td>\n",
       "            </tr>\n",
       "            <tr>\n",
       "                        <th id=\"T_f1142b38_9992_11eb_ac7a_1e00623a222clevel0_row3\" class=\"row_heading level0 row3\" >20-24</th>\n",
       "                        <td id=\"T_f1142b38_9992_11eb_ac7a_1e00623a222crow3_col0\" class=\"data row3 col0\" >258</td>\n",
       "                        <td id=\"T_f1142b38_9992_11eb_ac7a_1e00623a222crow3_col1\" class=\"data row3 col1\" >44.79%</td>\n",
       "            </tr>\n",
       "            <tr>\n",
       "                        <th id=\"T_f1142b38_9992_11eb_ac7a_1e00623a222clevel0_row4\" class=\"row_heading level0 row4\" >25-29</th>\n",
       "                        <td id=\"T_f1142b38_9992_11eb_ac7a_1e00623a222crow4_col0\" class=\"data row4 col0\" >77</td>\n",
       "                        <td id=\"T_f1142b38_9992_11eb_ac7a_1e00623a222crow4_col1\" class=\"data row4 col1\" >13.37%</td>\n",
       "            </tr>\n",
       "            <tr>\n",
       "                        <th id=\"T_f1142b38_9992_11eb_ac7a_1e00623a222clevel0_row5\" class=\"row_heading level0 row5\" >30-34</th>\n",
       "                        <td id=\"T_f1142b38_9992_11eb_ac7a_1e00623a222crow5_col0\" class=\"data row5 col0\" >52</td>\n",
       "                        <td id=\"T_f1142b38_9992_11eb_ac7a_1e00623a222crow5_col1\" class=\"data row5 col1\" >9.03%</td>\n",
       "            </tr>\n",
       "            <tr>\n",
       "                        <th id=\"T_f1142b38_9992_11eb_ac7a_1e00623a222clevel0_row6\" class=\"row_heading level0 row6\" >35-39</th>\n",
       "                        <td id=\"T_f1142b38_9992_11eb_ac7a_1e00623a222crow6_col0\" class=\"data row6 col0\" >31</td>\n",
       "                        <td id=\"T_f1142b38_9992_11eb_ac7a_1e00623a222crow6_col1\" class=\"data row6 col1\" >5.38%</td>\n",
       "            </tr>\n",
       "            <tr>\n",
       "                        <th id=\"T_f1142b38_9992_11eb_ac7a_1e00623a222clevel0_row7\" class=\"row_heading level0 row7\" >40+</th>\n",
       "                        <td id=\"T_f1142b38_9992_11eb_ac7a_1e00623a222crow7_col0\" class=\"data row7 col0\" >12</td>\n",
       "                        <td id=\"T_f1142b38_9992_11eb_ac7a_1e00623a222crow7_col1\" class=\"data row7 col1\" >2.08%</td>\n",
       "            </tr>\n",
       "    </tbody></table>"
      ],
      "text/plain": [
       "<pandas.io.formats.style.Styler at 0x7f9b4b412040>"
      ]
     },
     "execution_count": 6,
     "metadata": {},
     "output_type": "execute_result"
    }
   ],
   "source": [
    "#create bins and labels\n",
    "bins = [0, 9.9, 14.9, 19.9, 24.9, 29.9, 34.9, 39.9, 120]\n",
    "binNames = [\"<10\" ,\"10-14\" ,\"15-19\" ,\"20-24\" ,\"25-29\" ,\"30-34\" ,\"35-39\" ,\"40+\"]\n",
    "\n",
    "gen[\"Age Range\"] = pd.cut(gen[\"Age\"], bins, labels = binNames, include_lowest = True)\n",
    "#gen  #output check\n",
    "\n",
    "#get total counts for each age range\n",
    "ageDemo = gen.groupby(\"Age Range\").agg(**{\n",
    "        \"Total Count\":(\"SN\",\"count\")\n",
    "})\n",
    "\n",
    "#sum total counts to get denom\n",
    "totalCnts = sum(ageDemo[\"Total Count\"])\n",
    "\n",
    "ageDemo[\"Percentage of Players\"] = (ageDemo[\"Total Count\"] / totalCnts) * 100\n",
    "\n",
    "# remove index name to match the output in the companion\n",
    "ageDemo.index.name = None\n",
    "\n",
    "#format needed output\n",
    "formatAgeDemoPerc = {\"Percentage of Players\":\"{0:,.2f}%\"}\n",
    "ageDemo.style.format(formatAgeDemoPerc)\n"
   ]
  },
  {
   "cell_type": "markdown",
   "metadata": {},
   "source": [
    "## Purchasing Analysis (Age)"
   ]
  },
  {
   "cell_type": "markdown",
   "metadata": {},
   "source": [
    "* Bin the purchaseData data frame by age\n",
    "\n",
    "\n",
    "* Run basic calculations to obtain purchase count, avg. purchase price, avg. purchase total per person etc. in the table below\n",
    "\n",
    "\n",
    "* Create a summary data frame to hold the results\n",
    "\n",
    "\n",
    "* Optional: give the displayed data cleaner formatting\n",
    "\n",
    "\n",
    "* Display the summary data frame"
   ]
  },
  {
   "cell_type": "code",
   "execution_count": 7,
   "metadata": {},
   "outputs": [
    {
     "data": {
      "text/html": [
       "<style  type=\"text/css\" >\n",
       "</style><table id=\"T_f116ad04_9992_11eb_ac7a_1e00623a222c\" ><thead>    <tr>        <th class=\"blank level0\" ></th>        <th class=\"col_heading level0 col0\" >Purchase Count</th>        <th class=\"col_heading level0 col1\" >Avg Purchase Price</th>        <th class=\"col_heading level0 col2\" >Total Purchase Value</th>        <th class=\"col_heading level0 col3\" >Avg Total Purchase per Person</th>    </tr>    <tr>        <th class=\"index_name level0\" >Age Range</th>        <th class=\"blank\" ></th>        <th class=\"blank\" ></th>        <th class=\"blank\" ></th>        <th class=\"blank\" ></th>    </tr></thead><tbody>\n",
       "                <tr>\n",
       "                        <th id=\"T_f116ad04_9992_11eb_ac7a_1e00623a222clevel0_row0\" class=\"row_heading level0 row0\" ><10</th>\n",
       "                        <td id=\"T_f116ad04_9992_11eb_ac7a_1e00623a222crow0_col0\" class=\"data row0 col0\" >23</td>\n",
       "                        <td id=\"T_f116ad04_9992_11eb_ac7a_1e00623a222crow0_col1\" class=\"data row0 col1\" >$3.35</td>\n",
       "                        <td id=\"T_f116ad04_9992_11eb_ac7a_1e00623a222crow0_col2\" class=\"data row0 col2\" >$77.13</td>\n",
       "                        <td id=\"T_f116ad04_9992_11eb_ac7a_1e00623a222crow0_col3\" class=\"data row0 col3\" >$4.54</td>\n",
       "            </tr>\n",
       "            <tr>\n",
       "                        <th id=\"T_f116ad04_9992_11eb_ac7a_1e00623a222clevel0_row1\" class=\"row_heading level0 row1\" >10-14</th>\n",
       "                        <td id=\"T_f116ad04_9992_11eb_ac7a_1e00623a222crow1_col0\" class=\"data row1 col0\" >28</td>\n",
       "                        <td id=\"T_f116ad04_9992_11eb_ac7a_1e00623a222crow1_col1\" class=\"data row1 col1\" >$2.96</td>\n",
       "                        <td id=\"T_f116ad04_9992_11eb_ac7a_1e00623a222crow1_col2\" class=\"data row1 col2\" >$82.78</td>\n",
       "                        <td id=\"T_f116ad04_9992_11eb_ac7a_1e00623a222crow1_col3\" class=\"data row1 col3\" >$3.76</td>\n",
       "            </tr>\n",
       "            <tr>\n",
       "                        <th id=\"T_f116ad04_9992_11eb_ac7a_1e00623a222clevel0_row2\" class=\"row_heading level0 row2\" >15-19</th>\n",
       "                        <td id=\"T_f116ad04_9992_11eb_ac7a_1e00623a222crow2_col0\" class=\"data row2 col0\" >136</td>\n",
       "                        <td id=\"T_f116ad04_9992_11eb_ac7a_1e00623a222crow2_col1\" class=\"data row2 col1\" >$3.04</td>\n",
       "                        <td id=\"T_f116ad04_9992_11eb_ac7a_1e00623a222crow2_col2\" class=\"data row2 col2\" >$412.89</td>\n",
       "                        <td id=\"T_f116ad04_9992_11eb_ac7a_1e00623a222crow2_col3\" class=\"data row2 col3\" >$3.86</td>\n",
       "            </tr>\n",
       "            <tr>\n",
       "                        <th id=\"T_f116ad04_9992_11eb_ac7a_1e00623a222clevel0_row3\" class=\"row_heading level0 row3\" >20-24</th>\n",
       "                        <td id=\"T_f116ad04_9992_11eb_ac7a_1e00623a222crow3_col0\" class=\"data row3 col0\" >365</td>\n",
       "                        <td id=\"T_f116ad04_9992_11eb_ac7a_1e00623a222crow3_col1\" class=\"data row3 col1\" >$3.05</td>\n",
       "                        <td id=\"T_f116ad04_9992_11eb_ac7a_1e00623a222crow3_col2\" class=\"data row3 col2\" >$1,114.06</td>\n",
       "                        <td id=\"T_f116ad04_9992_11eb_ac7a_1e00623a222crow3_col3\" class=\"data row3 col3\" >$4.32</td>\n",
       "            </tr>\n",
       "            <tr>\n",
       "                        <th id=\"T_f116ad04_9992_11eb_ac7a_1e00623a222clevel0_row4\" class=\"row_heading level0 row4\" >25-29</th>\n",
       "                        <td id=\"T_f116ad04_9992_11eb_ac7a_1e00623a222crow4_col0\" class=\"data row4 col0\" >101</td>\n",
       "                        <td id=\"T_f116ad04_9992_11eb_ac7a_1e00623a222crow4_col1\" class=\"data row4 col1\" >$2.90</td>\n",
       "                        <td id=\"T_f116ad04_9992_11eb_ac7a_1e00623a222crow4_col2\" class=\"data row4 col2\" >$293.00</td>\n",
       "                        <td id=\"T_f116ad04_9992_11eb_ac7a_1e00623a222crow4_col3\" class=\"data row4 col3\" >$3.81</td>\n",
       "            </tr>\n",
       "            <tr>\n",
       "                        <th id=\"T_f116ad04_9992_11eb_ac7a_1e00623a222clevel0_row5\" class=\"row_heading level0 row5\" >30-34</th>\n",
       "                        <td id=\"T_f116ad04_9992_11eb_ac7a_1e00623a222crow5_col0\" class=\"data row5 col0\" >73</td>\n",
       "                        <td id=\"T_f116ad04_9992_11eb_ac7a_1e00623a222crow5_col1\" class=\"data row5 col1\" >$2.93</td>\n",
       "                        <td id=\"T_f116ad04_9992_11eb_ac7a_1e00623a222crow5_col2\" class=\"data row5 col2\" >$214.00</td>\n",
       "                        <td id=\"T_f116ad04_9992_11eb_ac7a_1e00623a222crow5_col3\" class=\"data row5 col3\" >$4.12</td>\n",
       "            </tr>\n",
       "            <tr>\n",
       "                        <th id=\"T_f116ad04_9992_11eb_ac7a_1e00623a222clevel0_row6\" class=\"row_heading level0 row6\" >35-39</th>\n",
       "                        <td id=\"T_f116ad04_9992_11eb_ac7a_1e00623a222crow6_col0\" class=\"data row6 col0\" >41</td>\n",
       "                        <td id=\"T_f116ad04_9992_11eb_ac7a_1e00623a222crow6_col1\" class=\"data row6 col1\" >$3.60</td>\n",
       "                        <td id=\"T_f116ad04_9992_11eb_ac7a_1e00623a222crow6_col2\" class=\"data row6 col2\" >$147.67</td>\n",
       "                        <td id=\"T_f116ad04_9992_11eb_ac7a_1e00623a222crow6_col3\" class=\"data row6 col3\" >$4.76</td>\n",
       "            </tr>\n",
       "            <tr>\n",
       "                        <th id=\"T_f116ad04_9992_11eb_ac7a_1e00623a222clevel0_row7\" class=\"row_heading level0 row7\" >40+</th>\n",
       "                        <td id=\"T_f116ad04_9992_11eb_ac7a_1e00623a222crow7_col0\" class=\"data row7 col0\" >13</td>\n",
       "                        <td id=\"T_f116ad04_9992_11eb_ac7a_1e00623a222crow7_col1\" class=\"data row7 col1\" >$2.94</td>\n",
       "                        <td id=\"T_f116ad04_9992_11eb_ac7a_1e00623a222crow7_col2\" class=\"data row7 col2\" >$38.24</td>\n",
       "                        <td id=\"T_f116ad04_9992_11eb_ac7a_1e00623a222crow7_col3\" class=\"data row7 col3\" >$3.19</td>\n",
       "            </tr>\n",
       "    </tbody></table>"
      ],
      "text/plain": [
       "<pandas.io.formats.style.Styler at 0x7f9b49765a00>"
      ]
     },
     "execution_count": 7,
     "metadata": {},
     "output_type": "execute_result"
    }
   ],
   "source": [
    "#REUSING BINS LOGIC FROM ABOVE LEAVING BELOW IN COMMENTS FOR CONTEXT\n",
    "# bins = [0, 9.9, 14.9, 19.9, 24.9, 29.9, 34.9, 39.9, 120]\n",
    "# binNames = [\"<10\" ,\"10-14\" ,\"15-19\" ,\"20-24\" ,\"25-29\" ,\"30-34\" ,\"35-39\" ,\"40+\"]\n",
    "\n",
    "purchaseData[\"Age Range\"] = pd.cut(purchaseData[\"Age\"], bins, labels = binNames, include_lowest = True)\n",
    "#purchaseData #output check\n",
    "\n",
    "#create groupby df\n",
    "agePurc = purchaseData.groupby(\"Age Range\").agg(**{\n",
    "        \"Total Counts\":(\"SN\", \"nunique\")\n",
    "        ,\"Purchase Count\":(\"Purchase ID\",\"count\")\n",
    "        ,\"Avg Purchase Price\":(\"Price\",\"mean\")\n",
    "        ,\"Total Purchase Value\":(\"Price\",\"sum\")\n",
    "})\n",
    "# agePurc #output check\n",
    "\n",
    "#create avg be diving total unique people into the total purchase price\n",
    "agePurc[\"Avg Total Purchase per Person\"] = agePurc[\"Total Purchase Value\"] / agePurc[\"Total Counts\"] \n",
    "#agePurc #output check\n",
    "\n",
    "#create drop unneeded column.... this statement is prob not needed either \n",
    "#but trying to be clever\n",
    "purcAnalsysAge = agePurc.drop(columns=[\"Total Counts\"])                      \n",
    "purcAnalsysAge #output check\n",
    "\n",
    "#format needed output\n",
    "formatPricesAge = {\"Avg Purchase Price\":\"${0:,.2f}\"\\\n",
    "                ,\"Total Purchase Value\": \"${0:,.2f}\", \"Avg Total Purchase per Person\": \"${0:,.2f}\"}\n",
    "purcAnalsysAge.style.format(formatPricesAge)"
   ]
  },
  {
   "cell_type": "markdown",
   "metadata": {},
   "source": [
    "## Top Spenders"
   ]
  },
  {
   "cell_type": "markdown",
   "metadata": {},
   "source": [
    "* Run basic calculations to obtain the results in the table below\n",
    "\n",
    "\n",
    "* Create a summary data frame to hold the results\n",
    "\n",
    "\n",
    "* Sort the total purchase value column in descending order\n",
    "\n",
    "\n",
    "* Optional: give the displayed data cleaner formatting\n",
    "\n",
    "\n",
    "* Display a preview of the summary data frame\n",
    "\n"
   ]
  },
  {
   "cell_type": "code",
   "execution_count": 8,
   "metadata": {},
   "outputs": [
    {
     "data": {
      "text/html": [
       "<style  type=\"text/css\" >\n",
       "</style><table id=\"T_f118a29e_9992_11eb_ac7a_1e00623a222c\" ><thead>    <tr>        <th class=\"blank level0\" ></th>        <th class=\"col_heading level0 col0\" >Purchase Count</th>        <th class=\"col_heading level0 col1\" >Avg Purchase Price</th>        <th class=\"col_heading level0 col2\" >Total Purchase Value</th>    </tr>    <tr>        <th class=\"index_name level0\" >SN</th>        <th class=\"blank\" ></th>        <th class=\"blank\" ></th>        <th class=\"blank\" ></th>    </tr></thead><tbody>\n",
       "                <tr>\n",
       "                        <th id=\"T_f118a29e_9992_11eb_ac7a_1e00623a222clevel0_row0\" class=\"row_heading level0 row0\" >Lisosia93</th>\n",
       "                        <td id=\"T_f118a29e_9992_11eb_ac7a_1e00623a222crow0_col0\" class=\"data row0 col0\" >5</td>\n",
       "                        <td id=\"T_f118a29e_9992_11eb_ac7a_1e00623a222crow0_col1\" class=\"data row0 col1\" >$3.79</td>\n",
       "                        <td id=\"T_f118a29e_9992_11eb_ac7a_1e00623a222crow0_col2\" class=\"data row0 col2\" >$18.96</td>\n",
       "            </tr>\n",
       "            <tr>\n",
       "                        <th id=\"T_f118a29e_9992_11eb_ac7a_1e00623a222clevel0_row1\" class=\"row_heading level0 row1\" >Idastidru52</th>\n",
       "                        <td id=\"T_f118a29e_9992_11eb_ac7a_1e00623a222crow1_col0\" class=\"data row1 col0\" >4</td>\n",
       "                        <td id=\"T_f118a29e_9992_11eb_ac7a_1e00623a222crow1_col1\" class=\"data row1 col1\" >$3.86</td>\n",
       "                        <td id=\"T_f118a29e_9992_11eb_ac7a_1e00623a222crow1_col2\" class=\"data row1 col2\" >$15.45</td>\n",
       "            </tr>\n",
       "            <tr>\n",
       "                        <th id=\"T_f118a29e_9992_11eb_ac7a_1e00623a222clevel0_row2\" class=\"row_heading level0 row2\" >Chamjask73</th>\n",
       "                        <td id=\"T_f118a29e_9992_11eb_ac7a_1e00623a222crow2_col0\" class=\"data row2 col0\" >3</td>\n",
       "                        <td id=\"T_f118a29e_9992_11eb_ac7a_1e00623a222crow2_col1\" class=\"data row2 col1\" >$4.61</td>\n",
       "                        <td id=\"T_f118a29e_9992_11eb_ac7a_1e00623a222crow2_col2\" class=\"data row2 col2\" >$13.83</td>\n",
       "            </tr>\n",
       "            <tr>\n",
       "                        <th id=\"T_f118a29e_9992_11eb_ac7a_1e00623a222clevel0_row3\" class=\"row_heading level0 row3\" >Iral74</th>\n",
       "                        <td id=\"T_f118a29e_9992_11eb_ac7a_1e00623a222crow3_col0\" class=\"data row3 col0\" >4</td>\n",
       "                        <td id=\"T_f118a29e_9992_11eb_ac7a_1e00623a222crow3_col1\" class=\"data row3 col1\" >$3.40</td>\n",
       "                        <td id=\"T_f118a29e_9992_11eb_ac7a_1e00623a222crow3_col2\" class=\"data row3 col2\" >$13.62</td>\n",
       "            </tr>\n",
       "            <tr>\n",
       "                        <th id=\"T_f118a29e_9992_11eb_ac7a_1e00623a222clevel0_row4\" class=\"row_heading level0 row4\" >Iskadarya95</th>\n",
       "                        <td id=\"T_f118a29e_9992_11eb_ac7a_1e00623a222crow4_col0\" class=\"data row4 col0\" >3</td>\n",
       "                        <td id=\"T_f118a29e_9992_11eb_ac7a_1e00623a222crow4_col1\" class=\"data row4 col1\" >$4.37</td>\n",
       "                        <td id=\"T_f118a29e_9992_11eb_ac7a_1e00623a222crow4_col2\" class=\"data row4 col2\" >$13.10</td>\n",
       "            </tr>\n",
       "    </tbody></table>"
      ],
      "text/plain": [
       "<pandas.io.formats.style.Styler at 0x7f9b4b189580>"
      ]
     },
     "execution_count": 8,
     "metadata": {},
     "output_type": "execute_result"
    }
   ],
   "source": [
    "#get counts and avgs yaaa!!!!\n",
    "spenders = purchaseData.groupby(\"SN\").agg(**{\n",
    "            \"Purchase Count\":(\"Purchase ID\",\"count\")\n",
    "            ,\"Avg Purchase Price\":(\"Price\", \"mean\")\n",
    "            ,\"Total Purchase Value\":(\"Price\", \"sum\")\n",
    "})\n",
    "\n",
    "#format needed output\n",
    "formatSpenders = {\"Avg Purchase Price\":\"${0:,.2f}\", \"Total Purchase Value\": \"${0:,.2f}\"}\n",
    "spenders.sort_values(\"Total Purchase Value\", ascending = False)\\\n",
    "        .head(5)\\\n",
    "        .style\\\n",
    "        .format(formatSpenders)"
   ]
  },
  {
   "cell_type": "markdown",
   "metadata": {},
   "source": [
    "## Most Popular Items"
   ]
  },
  {
   "cell_type": "markdown",
   "metadata": {},
   "source": [
    "* Retrieve the Item ID, Item Name, and Item Price columns\n",
    "\n",
    "\n",
    "* Group by Item ID and Item Name. Perform calculations to obtain purchase count, average item price, and total purchase value\n",
    "\n",
    "\n",
    "* Create a summary data frame to hold the results\n",
    "\n",
    "\n",
    "* Sort the purchase count column in descending order\n",
    "\n",
    "\n",
    "* Optional: give the displayed data cleaner formatting\n",
    "\n",
    "\n",
    "* Display a preview of the summary data frame\n",
    "\n"
   ]
  },
  {
   "cell_type": "code",
   "execution_count": 9,
   "metadata": {},
   "outputs": [
    {
     "data": {
      "text/html": [
       "<style  type=\"text/css\" >\n",
       "</style><table id=\"T_f11a83e8_9992_11eb_ac7a_1e00623a222c\" ><thead>    <tr>        <th class=\"blank\" ></th>        <th class=\"blank level0\" ></th>        <th class=\"col_heading level0 col0\" >Purchase Count</th>        <th class=\"col_heading level0 col1\" >Item Price</th>        <th class=\"col_heading level0 col2\" >Total Purchase Value</th>    </tr>    <tr>        <th class=\"index_name level0\" >Item ID</th>        <th class=\"index_name level1\" >Item Name</th>        <th class=\"blank\" ></th>        <th class=\"blank\" ></th>        <th class=\"blank\" ></th>    </tr></thead><tbody>\n",
       "                <tr>\n",
       "                        <th id=\"T_f11a83e8_9992_11eb_ac7a_1e00623a222clevel0_row0\" class=\"row_heading level0 row0\" >92</th>\n",
       "                        <th id=\"T_f11a83e8_9992_11eb_ac7a_1e00623a222clevel1_row0\" class=\"row_heading level1 row0\" >Final Critic</th>\n",
       "                        <td id=\"T_f11a83e8_9992_11eb_ac7a_1e00623a222crow0_col0\" class=\"data row0 col0\" >13</td>\n",
       "                        <td id=\"T_f11a83e8_9992_11eb_ac7a_1e00623a222crow0_col1\" class=\"data row0 col1\" >$4.61</td>\n",
       "                        <td id=\"T_f11a83e8_9992_11eb_ac7a_1e00623a222crow0_col2\" class=\"data row0 col2\" >$59.99</td>\n",
       "            </tr>\n",
       "            <tr>\n",
       "                        <th id=\"T_f11a83e8_9992_11eb_ac7a_1e00623a222clevel0_row1\" class=\"row_heading level0 row1\" >178</th>\n",
       "                        <th id=\"T_f11a83e8_9992_11eb_ac7a_1e00623a222clevel1_row1\" class=\"row_heading level1 row1\" >Oathbreaker, Last Hope of the Breaking Storm</th>\n",
       "                        <td id=\"T_f11a83e8_9992_11eb_ac7a_1e00623a222crow1_col0\" class=\"data row1 col0\" >12</td>\n",
       "                        <td id=\"T_f11a83e8_9992_11eb_ac7a_1e00623a222crow1_col1\" class=\"data row1 col1\" >$4.23</td>\n",
       "                        <td id=\"T_f11a83e8_9992_11eb_ac7a_1e00623a222crow1_col2\" class=\"data row1 col2\" >$50.76</td>\n",
       "            </tr>\n",
       "            <tr>\n",
       "                        <th id=\"T_f11a83e8_9992_11eb_ac7a_1e00623a222clevel0_row2\" class=\"row_heading level0 row2\" >145</th>\n",
       "                        <th id=\"T_f11a83e8_9992_11eb_ac7a_1e00623a222clevel1_row2\" class=\"row_heading level1 row2\" >Fiery Glass Crusader</th>\n",
       "                        <td id=\"T_f11a83e8_9992_11eb_ac7a_1e00623a222crow2_col0\" class=\"data row2 col0\" >9</td>\n",
       "                        <td id=\"T_f11a83e8_9992_11eb_ac7a_1e00623a222crow2_col1\" class=\"data row2 col1\" >$4.58</td>\n",
       "                        <td id=\"T_f11a83e8_9992_11eb_ac7a_1e00623a222crow2_col2\" class=\"data row2 col2\" >$41.22</td>\n",
       "            </tr>\n",
       "            <tr>\n",
       "                        <th id=\"T_f11a83e8_9992_11eb_ac7a_1e00623a222clevel0_row3\" class=\"row_heading level0 row3\" >132</th>\n",
       "                        <th id=\"T_f11a83e8_9992_11eb_ac7a_1e00623a222clevel1_row3\" class=\"row_heading level1 row3\" >Persuasion</th>\n",
       "                        <td id=\"T_f11a83e8_9992_11eb_ac7a_1e00623a222crow3_col0\" class=\"data row3 col0\" >9</td>\n",
       "                        <td id=\"T_f11a83e8_9992_11eb_ac7a_1e00623a222crow3_col1\" class=\"data row3 col1\" >$3.22</td>\n",
       "                        <td id=\"T_f11a83e8_9992_11eb_ac7a_1e00623a222crow3_col2\" class=\"data row3 col2\" >$28.99</td>\n",
       "            </tr>\n",
       "            <tr>\n",
       "                        <th id=\"T_f11a83e8_9992_11eb_ac7a_1e00623a222clevel0_row4\" class=\"row_heading level0 row4\" >108</th>\n",
       "                        <th id=\"T_f11a83e8_9992_11eb_ac7a_1e00623a222clevel1_row4\" class=\"row_heading level1 row4\" >Extraction, Quickblade Of Trembling Hands</th>\n",
       "                        <td id=\"T_f11a83e8_9992_11eb_ac7a_1e00623a222crow4_col0\" class=\"data row4 col0\" >9</td>\n",
       "                        <td id=\"T_f11a83e8_9992_11eb_ac7a_1e00623a222crow4_col1\" class=\"data row4 col1\" >$3.53</td>\n",
       "                        <td id=\"T_f11a83e8_9992_11eb_ac7a_1e00623a222crow4_col2\" class=\"data row4 col2\" >$31.77</td>\n",
       "            </tr>\n",
       "    </tbody></table>"
      ],
      "text/plain": [
       "<pandas.io.formats.style.Styler at 0x7f9b4b44b190>"
      ]
     },
     "execution_count": 9,
     "metadata": {},
     "output_type": "execute_result"
    }
   ],
   "source": [
    "#get counts and avgs yaaa!!!!\n",
    "popItms = purchaseData.groupby([\"Item ID\",\"Item Name\"]).agg(**{\n",
    "            \"Purchase Count\":(\"Purchase ID\",\"count\")\n",
    "            ,\"Item Price\":(\"Price\", \"mean\")  #I'm cheating here by using min as it will only return one value:)\n",
    "            ,\"Total Purchase Value\":(\"Price\", \"sum\")\n",
    "})\n",
    "#popItms\n",
    "\n",
    "#format needed output\n",
    "formatPopItms = {\"Item Price\":\"${0:,.2f}\", \"Total Purchase Value\": \"${0:,.2f}\"}\n",
    "popItms.sort_values(\"Purchase Count\", ascending = False)\\\n",
    "        .head(5)\\\n",
    "        .style\\\n",
    "        .format(formatPopItms)"
   ]
  },
  {
   "cell_type": "markdown",
   "metadata": {},
   "source": [
    "## Most Profitable Items"
   ]
  },
  {
   "cell_type": "markdown",
   "metadata": {},
   "source": [
    "* Sort the above table by total purchase value in descending order\n",
    "\n",
    "\n",
    "* Optional: give the displayed data cleaner formatting\n",
    "\n",
    "\n",
    "* Display a preview of the data frame\n",
    "\n"
   ]
  },
  {
   "cell_type": "code",
   "execution_count": 10,
   "metadata": {
    "scrolled": true
   },
   "outputs": [
    {
     "data": {
      "text/html": [
       "<style  type=\"text/css\" >\n",
       "</style><table id=\"T_f11b6754_9992_11eb_ac7a_1e00623a222c\" ><thead>    <tr>        <th class=\"blank\" ></th>        <th class=\"blank level0\" ></th>        <th class=\"col_heading level0 col0\" >Purchase Count</th>        <th class=\"col_heading level0 col1\" >Item Price</th>        <th class=\"col_heading level0 col2\" >Total Purchase Value</th>    </tr>    <tr>        <th class=\"index_name level0\" >Item ID</th>        <th class=\"index_name level1\" >Item Name</th>        <th class=\"blank\" ></th>        <th class=\"blank\" ></th>        <th class=\"blank\" ></th>    </tr></thead><tbody>\n",
       "                <tr>\n",
       "                        <th id=\"T_f11b6754_9992_11eb_ac7a_1e00623a222clevel0_row0\" class=\"row_heading level0 row0\" >92</th>\n",
       "                        <th id=\"T_f11b6754_9992_11eb_ac7a_1e00623a222clevel1_row0\" class=\"row_heading level1 row0\" >Final Critic</th>\n",
       "                        <td id=\"T_f11b6754_9992_11eb_ac7a_1e00623a222crow0_col0\" class=\"data row0 col0\" >13</td>\n",
       "                        <td id=\"T_f11b6754_9992_11eb_ac7a_1e00623a222crow0_col1\" class=\"data row0 col1\" >$4.61</td>\n",
       "                        <td id=\"T_f11b6754_9992_11eb_ac7a_1e00623a222crow0_col2\" class=\"data row0 col2\" >$59.99</td>\n",
       "            </tr>\n",
       "            <tr>\n",
       "                        <th id=\"T_f11b6754_9992_11eb_ac7a_1e00623a222clevel0_row1\" class=\"row_heading level0 row1\" >178</th>\n",
       "                        <th id=\"T_f11b6754_9992_11eb_ac7a_1e00623a222clevel1_row1\" class=\"row_heading level1 row1\" >Oathbreaker, Last Hope of the Breaking Storm</th>\n",
       "                        <td id=\"T_f11b6754_9992_11eb_ac7a_1e00623a222crow1_col0\" class=\"data row1 col0\" >12</td>\n",
       "                        <td id=\"T_f11b6754_9992_11eb_ac7a_1e00623a222crow1_col1\" class=\"data row1 col1\" >$4.23</td>\n",
       "                        <td id=\"T_f11b6754_9992_11eb_ac7a_1e00623a222crow1_col2\" class=\"data row1 col2\" >$50.76</td>\n",
       "            </tr>\n",
       "            <tr>\n",
       "                        <th id=\"T_f11b6754_9992_11eb_ac7a_1e00623a222clevel0_row2\" class=\"row_heading level0 row2\" >82</th>\n",
       "                        <th id=\"T_f11b6754_9992_11eb_ac7a_1e00623a222clevel1_row2\" class=\"row_heading level1 row2\" >Nirvana</th>\n",
       "                        <td id=\"T_f11b6754_9992_11eb_ac7a_1e00623a222crow2_col0\" class=\"data row2 col0\" >9</td>\n",
       "                        <td id=\"T_f11b6754_9992_11eb_ac7a_1e00623a222crow2_col1\" class=\"data row2 col1\" >$4.90</td>\n",
       "                        <td id=\"T_f11b6754_9992_11eb_ac7a_1e00623a222crow2_col2\" class=\"data row2 col2\" >$44.10</td>\n",
       "            </tr>\n",
       "            <tr>\n",
       "                        <th id=\"T_f11b6754_9992_11eb_ac7a_1e00623a222clevel0_row3\" class=\"row_heading level0 row3\" >145</th>\n",
       "                        <th id=\"T_f11b6754_9992_11eb_ac7a_1e00623a222clevel1_row3\" class=\"row_heading level1 row3\" >Fiery Glass Crusader</th>\n",
       "                        <td id=\"T_f11b6754_9992_11eb_ac7a_1e00623a222crow3_col0\" class=\"data row3 col0\" >9</td>\n",
       "                        <td id=\"T_f11b6754_9992_11eb_ac7a_1e00623a222crow3_col1\" class=\"data row3 col1\" >$4.58</td>\n",
       "                        <td id=\"T_f11b6754_9992_11eb_ac7a_1e00623a222crow3_col2\" class=\"data row3 col2\" >$41.22</td>\n",
       "            </tr>\n",
       "            <tr>\n",
       "                        <th id=\"T_f11b6754_9992_11eb_ac7a_1e00623a222clevel0_row4\" class=\"row_heading level0 row4\" >103</th>\n",
       "                        <th id=\"T_f11b6754_9992_11eb_ac7a_1e00623a222clevel1_row4\" class=\"row_heading level1 row4\" >Singed Scalpel</th>\n",
       "                        <td id=\"T_f11b6754_9992_11eb_ac7a_1e00623a222crow4_col0\" class=\"data row4 col0\" >8</td>\n",
       "                        <td id=\"T_f11b6754_9992_11eb_ac7a_1e00623a222crow4_col1\" class=\"data row4 col1\" >$4.35</td>\n",
       "                        <td id=\"T_f11b6754_9992_11eb_ac7a_1e00623a222crow4_col2\" class=\"data row4 col2\" >$34.80</td>\n",
       "            </tr>\n",
       "    </tbody></table>"
      ],
      "text/plain": [
       "<pandas.io.formats.style.Styler at 0x7f9b4b4bc3a0>"
      ]
     },
     "execution_count": 10,
     "metadata": {},
     "output_type": "execute_result"
    }
   ],
   "source": [
    "popItms.sort_values(\"Total Purchase Value\", ascending = False)\\\n",
    "        .head(5)\\\n",
    "        .style\\\n",
    "        .format(formatPopItms)"
   ]
  }
 ],
 "metadata": {
  "anaconda-cloud": {},
  "kernel_info": {
   "name": "python3"
  },
  "kernelspec": {
   "display_name": "Python 3",
   "language": "python",
   "name": "python3"
  },
  "language_info": {
   "codemirror_mode": {
    "name": "ipython",
    "version": 3
   },
   "file_extension": ".py",
   "mimetype": "text/x-python",
   "name": "python",
   "nbconvert_exporter": "python",
   "pygments_lexer": "ipython3",
   "version": "3.8.5"
  },
  "latex_envs": {
   "LaTeX_envs_menu_present": true,
   "autoclose": false,
   "autocomplete": true,
   "bibliofile": "biblio.bib",
   "cite_by": "apalike",
   "current_citInitial": 1,
   "eqLabelWithNumbers": true,
   "eqNumInitial": 1,
   "hotkeys": {
    "equation": "Ctrl-E",
    "itemize": "Ctrl-I"
   },
   "labels_anchors": false,
   "latex_user_defs": false,
   "report_style_numbering": false,
   "user_envs_cfg": false
  },
  "nteract": {
   "version": "0.2.0"
  }
 },
 "nbformat": 4,
 "nbformat_minor": 4
}
